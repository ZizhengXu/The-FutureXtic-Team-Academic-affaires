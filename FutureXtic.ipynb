{
 "cells": [
  {
   "cell_type": "code",
   "execution_count": 154,
   "metadata": {},
   "outputs": [],
   "source": [
    "import pandas as pd\n",
    "from scipy import sparse\n",
    "from sklearn.linear_model import LogisticRegression\n",
    "import numpy as np\n",
    "from scipy.sparse import coo_matrix, hstack,csr_matrix\n",
    "import matplotlib.pyplot as plt"
   ]
  },
  {
   "cell_type": "markdown",
   "metadata": {},
   "source": [
    "# import data"
   ]
  },
  {
   "cell_type": "code",
   "execution_count": 16,
   "metadata": {},
   "outputs": [
    {
     "data": {
      "text/html": [
       "<div>\n",
       "<style scoped>\n",
       "    .dataframe tbody tr th:only-of-type {\n",
       "        vertical-align: middle;\n",
       "    }\n",
       "\n",
       "    .dataframe tbody tr th {\n",
       "        vertical-align: top;\n",
       "    }\n",
       "\n",
       "    .dataframe thead th {\n",
       "        text-align: right;\n",
       "    }\n",
       "</style>\n",
       "<table border=\"1\" class=\"dataframe\">\n",
       "  <thead>\n",
       "    <tr style=\"text-align: right;\">\n",
       "      <th></th>\n",
       "      <th>question_id</th>\n",
       "      <th>user_id</th>\n",
       "      <th>correct</th>\n",
       "    </tr>\n",
       "  </thead>\n",
       "  <tbody>\n",
       "    <tr>\n",
       "      <th>0</th>\n",
       "      <td>13</td>\n",
       "      <td>63994</td>\n",
       "      <td>0</td>\n",
       "    </tr>\n",
       "    <tr>\n",
       "      <th>1</th>\n",
       "      <td>13</td>\n",
       "      <td>7633</td>\n",
       "      <td>0</td>\n",
       "    </tr>\n",
       "    <tr>\n",
       "      <th>2</th>\n",
       "      <td>13</td>\n",
       "      <td>33056</td>\n",
       "      <td>0</td>\n",
       "    </tr>\n",
       "    <tr>\n",
       "      <th>3</th>\n",
       "      <td>13</td>\n",
       "      <td>3714</td>\n",
       "      <td>1</td>\n",
       "    </tr>\n",
       "    <tr>\n",
       "      <th>4</th>\n",
       "      <td>13</td>\n",
       "      <td>17535</td>\n",
       "      <td>1</td>\n",
       "    </tr>\n",
       "  </tbody>\n",
       "</table>\n",
       "</div>"
      ],
      "text/plain": [
       "   question_id  user_id  correct\n",
       "0           13    63994        0\n",
       "1           13     7633        0\n",
       "2           13    33056        0\n",
       "3           13     3714        1\n",
       "4           13    17535        1"
      ]
     },
     "execution_count": 16,
     "metadata": {},
     "output_type": "execute_result"
    }
   ],
   "source": [
    "df=pd.read_csv(\"inclassprob1_training_data.csv\")\n",
    "df.head()"
   ]
  },
  {
   "cell_type": "markdown",
   "metadata": {},
   "source": [
    "# encode to one-hot design matrix"
   ]
  },
  {
   "cell_type": "code",
   "execution_count": 183,
   "metadata": {},
   "outputs": [],
   "source": [
    "def zz(in_list,value=1):\n",
    "    result_dict ={}\n",
    "    result_array = []\n",
    "    curr=0\n",
    "    for i in in_list:\n",
    "        if i in result_dict:\n",
    "            result_array.append(result_dict[i])\n",
    "        else:\n",
    "            result_dict[i]=curr\n",
    "            result_array.append( curr )\n",
    "            curr+=1\n",
    "    data=value*np.ones(len(in_list))\n",
    "    row= np.arange(len(in_list),dtype=np.int).reshape(-1)# row index\n",
    "    col= np.array(result_array,dtype=np.int).reshape(-1) # col index\n",
    "#     print(data.shape,row.dtype,col.shape )\n",
    "    mat_coo = sparse.csr_matrix((data, ( row , col )) )\n",
    "    return mat_coo"
   ]
  },
  {
   "cell_type": "code",
   "execution_count": 184,
   "metadata": {},
   "outputs": [],
   "source": [
    "x1=zz(df[['user_id']].values.flatten())\n",
    "x2=zz(df[['question_id']].values.flatten(),value=-1)\n",
    "X=hstack([x1,x2])\n",
    "y=df['correct'].values.flatten()"
   ]
  },
  {
   "cell_type": "markdown",
   "metadata": {},
   "source": [
    "# perform logistic regression to account for our observations"
   ]
  },
  {
   "cell_type": "code",
   "execution_count": 185,
   "metadata": {},
   "outputs": [],
   "source": [
    "clf = LogisticRegression(random_state=0, solver='lbfgs',\n",
    "                         multi_class='multinomial').fit(X,y)"
   ]
  },
  {
   "cell_type": "code",
   "execution_count": 192,
   "metadata": {},
   "outputs": [
    {
     "data": {
      "text/plain": [
       "((1, 13230), 12839)"
      ]
     },
     "execution_count": 192,
     "metadata": {},
     "output_type": "execute_result"
    }
   ],
   "source": [
    "clf.coef_.shape, len(df['user_id'].unique())"
   ]
  },
  {
   "cell_type": "code",
   "execution_count": 189,
   "metadata": {},
   "outputs": [
    {
     "data": {
      "text/plain": [
       "((409519, 13230), (409519, 12839), (409519, 391), (409519,))"
      ]
     },
     "execution_count": 189,
     "metadata": {},
     "output_type": "execute_result"
    }
   ],
   "source": [
    "X.shape, x1.shape,x2.shape,df[['question_id']].values.flatten().shape"
   ]
  },
  {
   "cell_type": "markdown",
   "metadata": {},
   "source": [
    "# display the distribution of student proficiency and question difficulty"
   ]
  },
  {
   "cell_type": "code",
   "execution_count": 188,
   "metadata": {},
   "outputs": [
    {
     "data": {
      "image/png": "[encoded data removed]",
      "text/plain": [
       "<Figure size 432x288 with 1 Axes>"
      ]
     },
     "metadata": {},
     "output_type": "display_data"
    },
    {
     "data": {
      "text/plain": [
       "(array([ 2.,  0.,  1.,  5.,  7.,  9.,  9., 19., 19., 31., 22., 39., 32.,\n",
       "        27., 27., 30., 22., 24., 13., 11., 19.,  5.,  7.,  4.,  3.,  1.,\n",
       "         0.,  0.,  2.,  1.]),\n",
       " array([-1.39531844, -1.29106011, -1.18680179, -1.08254347, -0.97828514,\n",
       "        -0.87402682, -0.7697685 , -0.66551017, -0.56125185, -0.45699353,\n",
       "        -0.3527352 , -0.24847688, -0.14421856, -0.03996023,  0.06429809,\n",
       "         0.16855641,  0.27281474,  0.37707306,  0.48133138,  0.58558971,\n",
       "         0.68984803,  0.79410635,  0.89836468,  1.002623  ,  1.10688132,\n",
       "         1.21113965,  1.31539797,  1.41965629,  1.52391462,  1.62817294,\n",
       "         1.73243126]),\n",
       " <a list of 30 Patch objects>)"
      ]
     },
     "execution_count": 188,
     "metadata": {},
     "output_type": "execute_result"
    },
    {
     "data": {
      "image/png": "[encoded data removed]",
      "text/plain": [
       "<Figure size 432x288 with 1 Axes>"
      ]
     },
     "metadata": {},
     "output_type": "display_data"
    }
   ],
   "source": [
    "stu=clf.coef_[0][:x1.shape[1]]\n",
    "qus=clf.coef_[0][x1.shape[1]:]\n",
    "plt.hist(stu,bins=20)\n",
    "plt.title('student proficiency')\n",
    "plt.show()\n",
    "plt.hist(qus,bins=30)"
   ]
  },
  {
   "cell_type": "markdown",
   "metadata": {},
   "source": [
    "# remove extremely easy and hard questions"
   ]
  },
  {
   "cell_type": "code",
   "execution_count": 198,
   "metadata": {},
   "outputs": [],
   "source": [
    "q_index=np.where((qus<-1.1) + (qus >1.1))[0]"
   ]
  },
  {
   "cell_type": "code",
   "execution_count": 205,
   "metadata": {},
   "outputs": [
    {
     "name": "stdout",
     "output_type": "stream",
     "text": [
      "[268, 694, 1591, 5566, 12719, 12755, 12949, 15059, 15062, 15412]\n"
     ]
    }
   ],
   "source": [
    "def invert_map(in_list,value=1):\n",
    "    result_dict ={}\n",
    "    result_array = []\n",
    "    curr=0\n",
    "    for i in in_list:\n",
    "        if i in result_dict:\n",
    "            result_array.append(result_dict[i])\n",
    "        else:\n",
    "            result_dict[i]=curr\n",
    "            result_array.append( curr )\n",
    "            curr+=1\n",
    "#     data=value*np.ones(len(in_list))\n",
    "#     row= np.arange(len(in_list),dtype=np.int).reshape(-1)# row index\n",
    "#     col= np.array(result_array,dtype=np.int).reshape(-1) # col index\n",
    "# #     print(data.shape,row.dtype,col.shape )\n",
    "#     mat_coo = sparse.csr_matrix((data, ( row , col )) )\n",
    "    result_dict1 = {v: k for k, v in  result_dict.items()}\n",
    "    return result_dict1\n",
    "\n",
    "q_map = invert_map(df[['question_id']].values.flatten())\n",
    "exclude_qs=[q_map[i] for i in q_index]\n"
   ]
  },
  {
   "cell_type": "code",
   "execution_count": 219,
   "metadata": {},
   "outputs": [
    {
     "name": "stdout",
     "output_type": "stream",
     "text": [
      "I will exclude questions whose id=[268, 694, 1591, 5566, 12719, 12755, 12949, 15059, 15062, 15412], \n",
      "accounting for 2.56% of previously tested questions.\n"
     ]
    }
   ],
   "source": [
    "print('I will exclude questions whose id={0}, \\naccounting for {1:0.2f}% of previously tested questions.'.format(exclude_qs,len(exclude_qs)/len(q_map)*100))"
   ]
  },
  {
   "cell_type": "code",
   "execution_count": null,
   "metadata": {},
   "outputs": [],
   "source": []
  }
 ],
 "metadata": {
  "kernelspec": {
   "display_name": "Python 3",
   "language": "python",
   "name": "python3"
  },
  "language_info": {
   "codemirror_mode": {
    "name": "ipython",
    "version": 3
   },
   "file_extension": ".py",
   "mimetype": "text/x-python",
   "name": "python",
   "nbconvert_exporter": "python",
   "pygments_lexer": "ipython3",
   "version": "3.6.5"
  }
 },
 "nbformat": 4,
 "nbformat_minor": 2
}
